{
  "nbformat": 4,
  "nbformat_minor": 0,
  "metadata": {
    "colab": {
      "provenance": [],
      "authorship_tag": "ABX9TyPj4qOVmCxiMBSDgglcMzoV",
      "include_colab_link": true
    },
    "kernelspec": {
      "name": "python3",
      "display_name": "Python 3"
    },
    "language_info": {
      "name": "python"
    }
  },
  "cells": [
    {
      "cell_type": "markdown",
      "metadata": {
        "id": "view-in-github",
        "colab_type": "text"
      },
      "source": [
        "<a href=\"https://colab.research.google.com/github/skpugal5050/Data-Science-/blob/main/Untitled1.ipynb\" target=\"_parent\"><img src=\"https://colab.research.google.com/assets/colab-badge.svg\" alt=\"Open In Colab\"/></a>"
      ]
    },
    {
      "cell_type": "code",
      "execution_count": 1,
      "metadata": {
        "id": "fmr-7SWlsJr1",
        "colab": {
          "base_uri": "https://localhost:8080/"
        },
        "outputId": "86957f7c-025b-4b3a-ac66-9249a8251f43"
      },
      "outputs": [
        {
          "output_type": "stream",
          "name": "stdout",
          "text": [
            "Customer: John Doe\n",
            "Age: 28\n",
            "Balance: 120.75\n"
          ]
        }
      ],
      "source": [
        "customer_name = \"John Doe\"\n",
        "customer_age = 28\n",
        "customer_balance = 120.75\n",
        "print(\"Customer:\", customer_name)\n",
        "print(\"Age:\", customer_age)\n",
        "print(\"Balance:\", customer_balance)"
      ]
    }
  ]
}