{
  "nbformat": 4,
  "nbformat_minor": 0,
  "metadata": {
    "colab": {
      "provenance": [],
      "authorship_tag": "ABX9TyOo0yl5783stdgQWw7x06Vg",
      "include_colab_link": true
    },
    "kernelspec": {
      "name": "python3",
      "display_name": "Python 3"
    },
    "language_info": {
      "name": "python"
    }
  },
  "cells": [
    {
      "cell_type": "markdown",
      "metadata": {
        "id": "view-in-github",
        "colab_type": "text"
      },
      "source": [
        "<a href=\"https://colab.research.google.com/github/skpugal5050/Data-Science-/blob/main/Untitled1.ipynb\" target=\"_parent\"><img src=\"https://colab.research.google.com/assets/colab-badge.svg\" alt=\"Open In Colab\"/></a>"
      ]
    },
    {
      "cell_type": "markdown",
      "source": [],
      "metadata": {
        "id": "d1c0V375vQ58"
      }
    },
    {
      "cell_type": "code",
      "execution_count": null,
      "metadata": {
        "id": "fmr-7SWlsJr1",
        "outputId": "86957f7c-025b-4b3a-ac66-9249a8251f43",
        "colab": {
          "base_uri": "https://localhost:8080/"
        }
      },
      "outputs": [
        {
          "output_type": "stream",
          "name": "stdout",
          "text": [
            "Customer: John Doe\n",
            "Age: 28\n",
            "Balance: 120.75\n"
          ]
        }
      ],
      "source": [
        "customer_name = \"John Doe\"\n",
        "customer_age = 28\n",
        "customer_balance = 120.75\n",
        "print(\"Customer:\", customer_name)\n",
        "print(\"Age:\", customer_age)\n",
        "print(\"Balance:\", customer_balance)"
      ]
    },
    {
      "cell_type": "code",
      "source": [
        "\n",
        "print(\"Hello, Excited to start Data Science.\")"
      ],
      "metadata": {
        "id": "Kp2lRZ3lvjDn",
        "outputId": "d8b29cd9-8370-4b6d-d667-a4af521cfba6",
        "colab": {
          "base_uri": "https://localhost:8080/"
        }
      },
      "execution_count": null,
      "outputs": [
        {
          "output_type": "stream",
          "name": "stdout",
          "text": [
            "Hello, Excited to start Data Science.\n"
          ]
        }
      ]
    },
    {
      "cell_type": "code",
      "source": [
        "\n",
        "import numpy as np\n",
        "sales = np.array([150, 200, 250, 300, 400, 350, 500])\n",
        "print(\"Sales Data:\", sales)"
      ],
      "metadata": {
        "colab": {
          "base_uri": "https://localhost:8080/"
        },
        "id": "w9-6K_yZwYKl",
        "outputId": "2c6efba6-6e18-4c3d-f2eb-9c4f62020e1e"
      },
      "execution_count": null,
      "outputs": [
        {
          "output_type": "stream",
          "name": "stdout",
          "text": [
            "Sales Data: [150 200 250 300 400 350 500]\n"
          ]
        }
      ]
    },
    {
      "cell_type": "code",
      "source": [
        "\n",
        "print(\"Average Sales:\", np.mean(sales))\n",
        "print(\"Highest Sale:\", np.max(sales))\n",
        "print(\"Lowest Sale:\", np.min(sales))"
      ],
      "metadata": {
        "id": "oP8hzg_ixB28",
        "outputId": "8eaf8702-04f5-4fff-f8e2-bae88457f986",
        "colab": {
          "base_uri": "https://localhost:8080/"
        }
      },
      "execution_count": null,
      "outputs": [
        {
          "output_type": "stream",
          "name": "stdout",
          "text": [
            "Average Sales: 307.14285714285717\n",
            "Highest Sale: 500\n",
            "Lowest Sale: 150\n"
          ]
        }
      ]
    },
    {
      "cell_type": "code",
      "source": [
        "import pandas as pd\n",
        "data = {\n",
        "\"Customer\": [\"Alice\", \"Bob\", \"Charlie\"],\n",
        "\"Age\": [25, 30, 35],\n",
        "\"Amount Spent\": [120, 200, 150]\n",
        "}\n",
        "df = pd.DataFrame(data)\n",
        "print(df)"
      ],
      "metadata": {
        "colab": {
          "base_uri": "https://localhost:8080/"
        },
        "id": "17oeWKJSyqf9",
        "outputId": "cb2a2196-79c4-4967-c4d5-d8e307e4342d"
      },
      "execution_count": 9,
      "outputs": [
        {
          "output_type": "stream",
          "name": "stdout",
          "text": [
            "  Customer  Age  Amount Spent\n",
            "0    Alice   25           120\n",
            "1      Bob   30           200\n",
            "2  Charlie   35           150\n"
          ]
        }
      ]
    }
  ]
}